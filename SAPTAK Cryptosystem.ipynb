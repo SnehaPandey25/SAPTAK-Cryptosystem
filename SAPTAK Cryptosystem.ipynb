{
 "cells": [
  {
   "cell_type": "code",
   "execution_count": 4,
   "metadata": {
    "id": "CMT4G6rHbNP_"
   },
   "outputs": [],
   "source": [
    "import random\n",
    "import itertools"
   ]
  },
  {
   "cell_type": "code",
   "execution_count": 5,
   "metadata": {
    "id": "0ZWxiQt8bu4S"
   },
   "outputs": [],
   "source": [
    "def select4bases() -> list:\n",
    "    SWARAS = ['S', 'R', 'G', 'M', 'P', 'D', 'N']\n",
    "    main_base = []\n",
    "    # randomly selecting 4 bases from SWARAS\n",
    "    for i in range(4):\n",
    "        main_base.append(random.choice(SWARAS))\n",
    "        SWARAS.remove(main_base[i])\n",
    "    return(SWARAS,main_base)"
   ]
  },
  {
   "cell_type": "code",
   "execution_count": 6,
   "metadata": {
    "id": "igUanGMzdyGD"
   },
   "outputs": [],
   "source": [
    "def generate_SAPTAK_sequence(plaintext: str, main_base: list) -> list:\n",
    "    # generating SAPTAK sequence (random character table)\n",
    "    SAPTAK_sequence = []\n",
    "    list_comb = [list(comb) for comb in itertools.product(main_base, repeat = 4)]\n",
    "    for letter in plaintext:\n",
    "        SAPTAK_sequence.append(list_comb[ord(letter)])\n",
    "\n",
    "    # list of list to list\n",
    "    SAPTAK_sequence = [item for sublist in SAPTAK_sequence for item in sublist]\n",
    "    return SAPTAK_sequence, list_comb"
   ]
  },
  {
   "cell_type": "code",
   "execution_count": 7,
   "metadata": {
    "id": "mYP0qTjWemAD"
   },
   "outputs": [],
   "source": [
    "def index_sequence_encryption(plaintext: str) -> list:\n",
    "    # randomly generating indexes\n",
    "    index_sequence = []\n",
    "    for i in range(len(plaintext)*4):\n",
    "        index_sequence.append(random.randint(0,((len(plaintext)*4)*2)-1))\n",
    "    index_sequence = sorted(index_sequence)\n",
    "    return index_sequence"
   ]
  },
  {
   "cell_type": "code",
   "execution_count": 8,
   "metadata": {
    "id": "LfZbQH1AfQyY"
   },
   "outputs": [],
   "source": [
    "def merge3bases(plaintext: str, SWARAS: list, SAPTAK_sequence: list, index_sequence: list) -> list:\n",
    "    # merging 3 letters to SAPTAK sequence\n",
    "    for i in range(len(plaintext)*4):\n",
    "        SAPTAK_sequence.insert(index_sequence[i], random.choice(SWARAS))\n",
    "    return SAPTAK_sequence"
   ]
  },
  {
   "cell_type": "code",
   "execution_count": 9,
   "metadata": {
    "id": "39Hyshg5geEN"
   },
   "outputs": [],
   "source": [
    "def coding_table_3bit() -> dict:\n",
    "    # coding table generation\n",
    "    bits3 = ['000','001','010','011','100','101','110'] \n",
    "    swaras = ['S', 'R', 'G', 'M', 'P', 'D', 'N']\n",
    "    binary_conversion3bit = {}\n",
    "    for i in range(7):\n",
    "        binary_conversion3bit[bits3[i]] = random.choice(swaras)\n",
    "        swaras.remove(binary_conversion3bit[bits3[i]])\n",
    "    binary_conversion3bit['111'] = 'E'\n",
    "    return binary_conversion3bit"
   ]
  },
  {
   "cell_type": "code",
   "execution_count": 10,
   "metadata": {
    "id": "K4ktHbiBcN1E"
   },
   "outputs": [],
   "source": [
    "def dict_swap(dictionary: dict) -> dict:\n",
    "    dict_swapped = {v: k for k, v in dictionary.items()}\n",
    "    return dict_swapped"
   ]
  },
  {
   "cell_type": "code",
   "execution_count": 11,
   "metadata": {
    "id": "MK0qd-xrg9Bu"
   },
   "outputs": [],
   "source": [
    "def toBinary(SAPTAK_sequence: list,binary_conversionNbit: dict) -> list:\n",
    "    #conversion to binary\n",
    "    binary_conversionNbit_swap = dict_swap(binary_conversionNbit)\n",
    "    S2B = []\n",
    "    for letter in SAPTAK_sequence:\n",
    "        S2B.append(binary_conversionNbit_swap[letter])\n",
    "\n",
    "    #conversion of string to int\n",
    "    S2B_listoflist = []\n",
    "    for i in range(len(S2B)):\n",
    "        S2B_listoflist.append(list(S2B[i]))\n",
    "    S2B_list = list(itertools.chain.from_iterable(S2B_listoflist))\n",
    "    intS2B = [int(ele) for ele in S2B_list]\n",
    "    return intS2B"
   ]
  },
  {
   "cell_type": "code",
   "execution_count": 12,
   "metadata": {
    "id": "gcx_DpJChv0b"
   },
   "outputs": [],
   "source": [
    "def coding_table_2bit(main_base: list) -> dict:\n",
    "    # coding table generation\n",
    "    bits2 = ['00','01','10','11'] \n",
    "    main_base2 = main_base.copy()\n",
    "    binary_conversion2bit = {}\n",
    "    for i in range(4):\n",
    "        binary_conversion2bit[bits2[i]] = random.choice(main_base2)\n",
    "        main_base2.remove(binary_conversion2bit[bits2[i]])\n",
    "    return binary_conversion2bit"
   ]
  },
  {
   "cell_type": "code",
   "execution_count": 13,
   "metadata": {
    "id": "6J7Lajq3iQwP"
   },
   "outputs": [],
   "source": [
    "def complementary_codingRule(binary_conversion2bit: dict) -> dict:\n",
    "    # generating complementary dictionary\n",
    "    complementary_list = []\n",
    "    for values in binary_conversion2bit.values():\n",
    "        complementary_list.append(values)\n",
    "    complementary_list_reverse = complementary_list[::-1]\n",
    "    complementary_dict = {}\n",
    "    for i in range(4):\n",
    "        complementary_dict[complementary_list[i]] = complementary_list_reverse[i]\n",
    "    return complementary_dict"
   ]
  },
  {
   "cell_type": "code",
   "execution_count": 14,
   "metadata": {
    "id": "7V34Dv8Aipjl"
   },
   "outputs": [],
   "source": [
    "def password_complement(key_password: list,complementary_dict: dict) -> list:\n",
    "    # complementary password\n",
    "    for i in range(len(key_password)):\n",
    "        key_password[i] = complementary_dict[key_password[i]]\n",
    "    return key_password"
   ]
  },
  {
   "cell_type": "code",
   "execution_count": 15,
   "metadata": {
    "id": "nAjJUMHnjpvV"
   },
   "outputs": [],
   "source": [
    "def index_sequence_key(intP2B: list) -> list:\n",
    "    # randomly generating indexes\n",
    "    index_sequence = []\n",
    "    for i in range(len(intP2B)//2):\n",
    "        index_sequence.append(random.randint(0,(len(intP2B)-1)))\n",
    "    return index_sequence"
   ]
  },
  {
   "cell_type": "code",
   "execution_count": 16,
   "metadata": {
    "id": "eh18ZsP8n9pk"
   },
   "outputs": [],
   "source": [
    "def divide_merge(intP2B: list, index_sequence: list) -> list:\n",
    "    # dividing and merging 2 list randomly\n",
    "    intP2B_1 = intP2B[:len(intP2B)//2]\n",
    "    intP2B_2 = intP2B[len(intP2B)//2:]\n",
    "\n",
    "    for i in range(len(intP2B_1)):\n",
    "        intP2B_2.insert(index_sequence[i], intP2B_1[i])\n",
    "    return intP2B_2"
   ]
  },
  {
   "cell_type": "code",
   "execution_count": 17,
   "metadata": {
    "id": "CC-MA3h7odCP"
   },
   "outputs": [],
   "source": [
    "def xor(intP2B_2: list, intS2B: list) -> list:\n",
    "    xor_list = []\n",
    "    if len(intS2B) > 256:\n",
    "        x = [intS2B[i:i + 256] for i in range(0, len(intS2B), 256)]\n",
    "        for block in x:\n",
    "            for i in range(len(block)):\n",
    "                xor_list.append(block[i] ^ intP2B_2[i])\n",
    "    else:\n",
    "        for i in range(len(intS2B)):\n",
    "            xor_list.append(intS2B[i] ^ intP2B_2[i])\n",
    "    return xor_list"
   ]
  },
  {
   "cell_type": "code",
   "execution_count": 18,
   "metadata": {
    "id": "Mz1biHyBpAF9"
   },
   "outputs": [],
   "source": [
    "def binary_to_SAPTAK_e(plaintext: str, binary_conversion3bit: dict, xor_list: list) -> list:\n",
    "    xor_str = [str(x) for x in xor_list]\n",
    "    grouped_bin = []\n",
    "    for i in range(len(plaintext)*8):\n",
    "        grouped_bin.append(''.join(xor_str[0:3]))\n",
    "        xor_str = xor_str[3:]\n",
    "\n",
    "    B2S = []\n",
    "    for group in grouped_bin:\n",
    "        B2S.append(binary_conversion3bit[group])\n",
    "    return B2S"
   ]
  },
  {
   "cell_type": "code",
   "execution_count": 19,
   "metadata": {
    "id": "qDFlnfQ4T87K"
   },
   "outputs": [],
   "source": [
    "def binary_to_SAPTAK_d(ciphertext: str, binary_conversion3bit: dict, xor_list: list) -> list:\n",
    "    xor_str = [str(x) for x in xor_list]\n",
    "    grouped_bin = []\n",
    "    for i in range(len(ciphertext)):\n",
    "        grouped_bin.append(''.join(xor_str[0:3]))\n",
    "        xor_str = xor_str[3:]\n",
    "\n",
    "    B2S = []\n",
    "    for group in grouped_bin:\n",
    "        B2S.append(binary_conversion3bit[group])\n",
    "    return B2S"
   ]
  },
  {
   "cell_type": "code",
   "execution_count": 20,
   "metadata": {
    "id": "5P7MjYhQSVSV"
   },
   "outputs": [],
   "source": [
    "def remove3bases(main_base: list, B2S: list) -> list:\n",
    "    B2Sd = [i for i in B2S if i in main_base]\n",
    "    return B2Sd"
   ]
  },
  {
   "cell_type": "code",
   "execution_count": 21,
   "metadata": {
    "id": "Iv2-s7TZS0Vi"
   },
   "outputs": [],
   "source": [
    "def toPlaintext(B2S: list, main_base: list) -> list:\n",
    "    # grouping in four\n",
    "    plaintext = []\n",
    "    grouped_cipher = []\n",
    "    for i in range(len(B2S)//4):\n",
    "        grouped_cipher.append(''.join(B2S[0:4]))\n",
    "        B2S = B2S[4:]\n",
    "    #string to list\n",
    "    grouped_cipher_list = []\n",
    "    for string in grouped_cipher:\n",
    "        grouped_cipher_list.append([i for i in string])\n",
    "    #character table to plaintext]\n",
    "    list_comb = [list(comb) for comb in itertools.product(main_base, repeat = 4)]\n",
    "    for lis in grouped_cipher_list:\n",
    "        index = list_comb.index(lis)\n",
    "        plaintext.append(chr(index))\n",
    "    plaintext_str = \"\".join(plaintext)\n",
    "    return plaintext_str"
   ]
  },
  {
   "cell_type": "code",
   "execution_count": 22,
   "metadata": {
    "id": "CwCojqHkrNyu"
   },
   "outputs": [],
   "source": [
    "def key_generation() -> list:\n",
    "    # 16 alphanumeric input + 16 from user's profile\n",
    "    password = '1234567890123456'    #input(\"Enter 16 characters password: \")\n",
    "    user_code = '0987654321098765'   #input(\"Enter 16 characters user_code: \")\n",
    "    key_password = password + user_code\n",
    "    SWARAS, main_base = select4bases()\n",
    "    key_password, list_comb = generate_SAPTAK_sequence(key_password, main_base)\n",
    "    binary_conversion2bit = coding_table_2bit(main_base)\n",
    "    complementary_dict = complementary_codingRule(binary_conversion2bit)\n",
    "    key_password = password_complement(key_password, complementary_dict)\n",
    "    intP2B = toBinary(key_password, binary_conversion2bit)\n",
    "    index_sequence = index_sequence_key(intP2B)\n",
    "    key_256bits = divide_merge(intP2B, index_sequence)\n",
    "    return key_256bits"
   ]
  },
  {
   "cell_type": "code",
   "execution_count": 23,
   "metadata": {
    "id": "M5MTqKX_pdy9"
   },
   "outputs": [],
   "source": [
    "def encryption(plaintext: str) -> list:\n",
    "    SWARAS, main_base = select4bases()\n",
    "    SAPTAK_sequence, list_comb = generate_SAPTAK_sequence(plaintext, main_base)\n",
    "    index_sequence = index_sequence_encryption(plaintext)\n",
    "    SAPTAK_sequence_new = merge3bases(plaintext, SWARAS, SAPTAK_sequence, index_sequence)\n",
    "    binary_conversion3bit = coding_table_3bit()\n",
    "    intS2B = toBinary(SAPTAK_sequence_new, binary_conversion3bit)\n",
    "    key_256bits = key_generation()\n",
    "    xor_list = xor(key_256bits, intS2B)\n",
    "    ciphertext = binary_to_SAPTAK_e(plaintext, binary_conversion3bit, xor_list)\n",
    "    ciphertext_str = \"\".join(ciphertext)\n",
    "    return (ciphertext_str, main_base, binary_conversion3bit, key_256bits)"
   ]
  },
  {
   "cell_type": "code",
   "execution_count": 24,
   "metadata": {
    "id": "Lt5fm8YD7rE8"
   },
   "outputs": [],
   "source": [
    "def decryption(ciphertext: list, main_base: list, binary_conversion3bit: dict, key_256bits: list) -> list:\n",
    "    intS2B = toBinary(ciphertext, binary_conversion3bit)\n",
    "    xor_list = xor(key_256bits, intS2B)\n",
    "    B2S = binary_to_SAPTAK_d(ciphertext, binary_conversion3bit, xor_list)\n",
    "    B2Sd = remove3bases(main_base, B2S)\n",
    "    plaintext = toPlaintext(B2Sd, main_base)\n",
    "    return plaintext"
   ]
  },
  {
   "cell_type": "code",
   "execution_count": 25,
   "metadata": {},
   "outputs": [],
   "source": [
    "# python module to create GUI\n",
    "from tkinter import *\n",
    "\n",
    "\n",
    "root = Tk()\n",
    "root.title(\"SAPTAK CRYPTOGRAPHY\")\n",
    "root.geometry(\"800x150\")\n",
    "\n",
    "def xyz():\n",
    "    def encryptMessage():\n",
    "        pt = e1.get()\n",
    "\n",
    "        ct, main_base, coding_rule, key = encryption(pt)\n",
    "        e2.insert(0, ct)\n",
    "        return ct, main_base, coding_rule, key\n",
    "    global y\n",
    "    global z\n",
    "    global w\n",
    "    x, y, z, w = encryptMessage()\n",
    "\n",
    "def decryptMessage():\n",
    "\tct1 = list(e3.get())\n",
    "    \n",
    "\tpt1 = decryption(ct1, y, z, w)\n",
    "\te4.insert(0, pt1)\n",
    "\n",
    "# creating labels and positioning them on the grid\n",
    "label1 = Label(root, text ='Plaintext')\n",
    "label1.grid(row = 10, column = 1)\n",
    "label2 = Label(root, text ='Encrypted text')\n",
    "label2.grid(row = 260, column = 1)\n",
    "l3 = Label(root, text =\"Ciphertext\")\n",
    "l3.grid(row = 760, column = 1)\n",
    "l4 = Label(root, text =\"Decrypted text\")\n",
    "l4.grid(row = 1010, column = 1)\n",
    "\n",
    "# creating entries and positioning them on the grid\n",
    "e1 = Entry(root, width = 100)\n",
    "e1.grid(row = 10, column = 2)\n",
    "e2 = Entry(root, width = 100)\n",
    "e2.grid(row = 260, column = 2)\n",
    "e3 = Entry(root, width = 100)\n",
    "e3.grid(row = 760, column = 2)\n",
    "e4 = Entry(root, width = 100)\n",
    "e4.grid(row = 1010, column = 2)\n",
    "\n",
    "# creating encryption button to produce the output\n",
    "ent = Button(root, text = \"Encrypt\", bg =\"green\", fg =\"white\", command = xyz)\n",
    "ent.grid(row = 510, column = 2)\n",
    "\n",
    "# creating decryption button to produce the output\n",
    "b2 = Button(root, text = \"Decrypt\", bg =\"red\", fg =\"white\", command = decryptMessage)\n",
    "b2.grid(row = 1260, column = 2)\n",
    "\n",
    "\n",
    "root.mainloop()\n"
   ]
  },
  {
   "cell_type": "code",
   "execution_count": null,
   "metadata": {},
   "outputs": [],
   "source": []
  }
 ],
 "metadata": {
  "colab": {
   "provenance": []
  },
  "kernelspec": {
   "display_name": "Python 3",
   "language": "python",
   "name": "python3"
  },
  "language_info": {
   "codemirror_mode": {
    "name": "ipython",
    "version": 3
   },
   "file_extension": ".py",
   "mimetype": "text/x-python",
   "name": "python",
   "nbconvert_exporter": "python",
   "pygments_lexer": "ipython3",
   "version": "3.8.8"
  }
 },
 "nbformat": 4,
 "nbformat_minor": 1
}
